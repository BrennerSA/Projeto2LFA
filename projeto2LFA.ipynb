{
 "cells": [
  {
   "cell_type": "markdown",
   "id": "cd9185b9",
   "metadata": {},
   "source": [
    "Este projeto tem como objetivo simular um AFND(Automato finito não deterministico). Para sua implementação foi \n",
    "utilizada a linguagem python"
   ]
  },
  {
   "cell_type": "markdown",
   "id": "2d2d79b4",
   "metadata": {},
   "source": [
    "Seguindo o objetivo do projeto, precisamos pegar dados de input, sendo esses os estados, o alfabeto e a quantidade \n",
    "de transições"
   ]
  },
  {
   "cell_type": "code",
   "execution_count": 1,
   "id": "fa020434",
   "metadata": {},
   "outputs": [
    {
     "name": "stdout",
     "output_type": "stream",
     "text": [
      "0 1 2\n",
      "a b\n",
      "5\n"
     ]
    }
   ],
   "source": [
    "estados = input().split(\" \")\n",
    "alfabeto = input().split(\" \")\n",
    "transicoes = int(input())"
   ]
  },
  {
   "cell_type": "markdown",
   "id": "31f1fde9",
   "metadata": {},
   "source": [
    "Em seguida é criado um hashmap para armazenar as transições que associam cada estado. por ser um AFND pode haver \n",
    "mais de uma transição com o mesmo caracter para cada estado"
   ]
  },
  {
   "cell_type": "code",
   "execution_count": 2,
   "id": "bf2a0db3",
   "metadata": {},
   "outputs": [
    {
     "name": "stdout",
     "output_type": "stream",
     "text": [
      "0 a 0\n",
      "0 a 1\n",
      "1 a 2\n",
      "2 b 0\n",
      "0 b 2\n"
     ]
    }
   ],
   "source": [
    "afnd = {}\n",
    "\n",
    "for estado in estados:\n",
    "    afnd[estado] = {}\n",
    "    \n",
    "while (0 < transicoes):\n",
    "\n",
    "    Inicial, Atual, Final = input().split(\" \")\n",
    "    if Atual not in afnd[Inicial]:\n",
    "        afnd[Inicial][Atual] = [Final]\n",
    "    else:\n",
    "        afnd[Inicial][Atual].append(Final)\n",
    "    transicoes=transicoes-1\n"
   ]
  },
  {
   "cell_type": "markdown",
   "id": "d273b3d9",
   "metadata": {},
   "source": [
    "Nessa etapa do codigo é solicitado qual o estado inicial, seguido pelos estados finais e pelo conjunto de palavras\n",
    "a ser consumida pelo automato"
   ]
  },
  {
   "cell_type": "code",
   "execution_count": 3,
   "id": "31aabf36",
   "metadata": {},
   "outputs": [
    {
     "name": "stdout",
     "output_type": "stream",
     "text": [
      "0\n",
      "2\n",
      "a ab b bbaa\n"
     ]
    }
   ],
   "source": [
    "inicio = input()\n",
    "fim = input().split(\" \")\n",
    "palavras = input().split(\" \")\n",
    "\n",
    "estadosFinais = {}\n"
   ]
  },
  {
   "cell_type": "markdown",
   "id": "7449cb02",
   "metadata": {},
   "source": [
    "Por fim o automato ira iterar sobre as palavras, consumindo caracter por caracter do input, e fazendo as transições\n",
    "e salvando essas transições em uma lista, onde ira ser verificado se os estados dessa lista são finais ou não para\n",
    "em seguida imprimir o caracter S ou N implicando a aceitação ou não aceitação da palavra."
   ]
  },
  {
   "cell_type": "code",
   "execution_count": 4,
   "id": "869e718f",
   "metadata": {},
   "outputs": [
    {
     "name": "stdout",
     "output_type": "stream",
     "text": [
      "N\n",
      "S\n",
      "S\n",
      "S\n"
     ]
    }
   ],
   "source": [
    "for i in fim:\n",
    "    estadosFinais[i] = 1\n",
    "\n",
    "for palavra in palavras:\n",
    "    estadosAtuais = [inicio]\n",
    "    isFinal = 0\n",
    "\n",
    "    for letra in palavra:\n",
    "        novosEstados = []\n",
    "\n",
    "        for estado in estadosAtuais:\n",
    "            if(afnd[estado].get(letra)):\n",
    "\n",
    "                for novoEstado in afnd[estado][letra]:\n",
    "                    if(novoEstado not in novosEstados):\n",
    "                        novosEstados.append(novoEstado) \n",
    "\n",
    "        estadosAtuais = novosEstados\n",
    "    for estado in estadosAtuais:\n",
    "        if(estadosFinais.get(estado)):\n",
    "            isFinal = 1\n",
    " \n",
    "    if(isFinal == 1):\n",
    "        print('S')\n",
    "    else:\n",
    "        print('N')"
   ]
  },
  {
   "cell_type": "code",
   "execution_count": null,
   "id": "03ae66cf",
   "metadata": {},
   "outputs": [],
   "source": []
  }
 ],
 "metadata": {
  "kernelspec": {
   "display_name": "Python 3 (ipykernel)",
   "language": "python",
   "name": "python3"
  },
  "language_info": {
   "codemirror_mode": {
    "name": "ipython",
    "version": 3
   },
   "file_extension": ".py",
   "mimetype": "text/x-python",
   "name": "python",
   "nbconvert_exporter": "python",
   "pygments_lexer": "ipython3",
   "version": "3.10.4"
  }
 },
 "nbformat": 4,
 "nbformat_minor": 5
}
